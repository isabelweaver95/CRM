{
  "nbformat": 4,
  "nbformat_minor": 0,
  "metadata": {
    "colab": {
      "name": "Assessment.ipynb",
      "provenance": [],
      "toc_visible": true
    },
    "kernelspec": {
      "name": "python3",
      "display_name": "Python 3"
    }
  },
  "cells": [
    {
      "cell_type": "markdown",
      "metadata": {
        "id": "E5dpj74Hya2q"
      },
      "source": [
        "# Introduction\n",
        "This assignment will test how well you're able to perform various data science-related tasks.\n",
        "\n",
        "Each Problem Group below will center around a particular dataset that you have worked with before.\n",
        "\n",
        "To ensure you receive full credit for a question, make sure you demonstrate the appropriate pandas, altair, or other commands as requested in the provided code blocks.\n",
        "\n",
        "You may find that some questions require multiple steps to fully answer. Others require some mental arithmetic in addition to pandas commands. Use your best judgment.\n",
        "\n",
        "## Submission\n",
        "Each problem group asks a series of questions. This assignment consists of two submissions:\n",
        "\n",
        "1. After completing the questions below, open the Module 01 Assessment Quiz in Canvas and enter your answers to these questions there.\n",
        "\n",
        "2. After completing and submitting the quiz, save this Colab notebook as a GitHub Gist (You'll need to create a GitHub account for this), by selecting `Save a copy as a GitHub Gist` from the `File` menu above.\n",
        "\n",
        "    In Canvas, open the Module 01 Assessment GitHub Gist assignment and paste the GitHub Gist URL for this notebook. Then submit that assignment."
      ]
    },
    {
      "cell_type": "markdown",
      "metadata": {
        "id": "WgYhh-W3xk4e"
      },
      "source": [
        "## Problem Group 1\n",
        "\n",
        "For the questions in this group, you'll work with the Netflix Movies Dataset found at this url: [https://raw.githubusercontent.com/byui-cse/cse450-course/master/data/netflix_titles.csv](https://raw.githubusercontent.com/byui-cse/cse450-course/master/data/netflix_titles.csv)\n"
      ]
    },
    {
      "cell_type": "markdown",
      "metadata": {
        "id": "kulUs9K7xxB3"
      },
      "source": [
        "### Question 1\n",
        "Load the dataset into a Pandas data frame and determine what data type is used to store the `release_year` feature."
      ]
    },
    {
      "cell_type": "code",
      "metadata": {
        "id": "ecSfSVrsxjx5",
        "colab": {
          "base_uri": "https://localhost:8080/"
        },
        "outputId": "6bcbe5f5-5d13-46b3-c986-da8efadc0595"
      },
      "source": [
        "import pandas as pd\n",
        "netflix = pd.read_csv(\"https://raw.githubusercontent.com/byui-cse/cse450-course/master/data/netflix_titles.csv\")\n",
        "\n",
        "netflix.head(8)\n",
        "netflix.info()\n",
        "\n",
        "release_year_type = netflix['release_year'].dtype\n",
        "print(f\"The data type of the 'release_year' column is: {release_year_type}\")"
      ],
      "execution_count": 39,
      "outputs": [
        {
          "output_type": "stream",
          "name": "stdout",
          "text": [
            "<class 'pandas.core.frame.DataFrame'>\n",
            "RangeIndex: 6234 entries, 0 to 6233\n",
            "Data columns (total 12 columns):\n",
            " #   Column        Non-Null Count  Dtype \n",
            "---  ------        --------------  ----- \n",
            " 0   show_id       6234 non-null   int64 \n",
            " 1   type          6234 non-null   object\n",
            " 2   title         6234 non-null   object\n",
            " 3   director      4265 non-null   object\n",
            " 4   cast          5664 non-null   object\n",
            " 5   country       5758 non-null   object\n",
            " 6   date_added    6223 non-null   object\n",
            " 7   release_year  6234 non-null   int64 \n",
            " 8   rating        6224 non-null   object\n",
            " 9   duration      6234 non-null   object\n",
            " 10  listed_in     6234 non-null   object\n",
            " 11  description   6234 non-null   object\n",
            "dtypes: int64(2), object(10)\n",
            "memory usage: 584.6+ KB\n",
            "The data type of the 'release_year' column is: int64\n"
          ]
        }
      ]
    },
    {
      "cell_type": "markdown",
      "metadata": {
        "id": "ivpHTGpczpyM"
      },
      "source": [
        "### Question 2\n",
        "Filter your dataset so it contains only `TV Shows`. How many of those TV Shows were rated `TV-Y7`?"
      ]
    },
    {
      "cell_type": "code",
      "metadata": {
        "id": "Zf6QABfXx5Xh",
        "colab": {
          "base_uri": "https://localhost:8080/"
        },
        "outputId": "dde147dc-fdec-4509-fdae-14f00415599e"
      },
      "source": [
        "tv_shows = netflix[netflix['type'] == 'TV Show']\n",
        "tv_shows_rating = tv_shows[tv_shows['rating'] == 'TV-Y7']\n",
        "tv_shows_rating.head(8)\n",
        "\n",
        "num_tv_y7_shows = tv_shows_rating.shape[0]\n",
        "\n",
        "print(f\"Number of TV Shows rated TV-Y7: {num_tv_y7_shows}\")"
      ],
      "execution_count": 41,
      "outputs": [
        {
          "output_type": "stream",
          "name": "stdout",
          "text": [
            "Number of TV Shows rated TV-Y7: 100\n"
          ]
        }
      ]
    },
    {
      "cell_type": "markdown",
      "metadata": {
        "id": "-esock-41eGo"
      },
      "source": [
        "### Question 3\n",
        "Further filter your dataset so it only contains TV Shows released between the years 2000 and 2009 inclusive. How many of *those* shows were rated `TV-Y7`?"
      ]
    },
    {
      "cell_type": "code",
      "metadata": {
        "id": "cBNHqCgz0WDp",
        "colab": {
          "base_uri": "https://localhost:8080/"
        },
        "outputId": "f267f908-d322-470f-a705-550939820d06"
      },
      "source": [
        "tv_rating_years = tv_shows_rating[tv_shows_rating['release_year'] >= 2000]\n",
        "tv_rating_years = tv_rating_years[tv_rating_years['release_year'] <= 2009]\n",
        "\n",
        "tv_rating_years.head()\n",
        "\n",
        "tv_rating_years.shape[0]"
      ],
      "execution_count": 43,
      "outputs": [
        {
          "output_type": "execute_result",
          "data": {
            "text/plain": [
              "4"
            ]
          },
          "metadata": {},
          "execution_count": 43
        }
      ]
    },
    {
      "cell_type": "markdown",
      "metadata": {
        "id": "cB4zmoJm3XDj"
      },
      "source": [
        "## Problem Group 2\n",
        "\n",
        "For the questions in this group, you'll work with the Cereal Dataset found at this url: [https://raw.githubusercontent.com/byui-cse/cse450-course/master/data/cereal.csv](https://raw.githubusercontent.com/byui-cse/cse450-course/master/data/cereal.csv)\n"
      ]
    },
    {
      "cell_type": "markdown",
      "metadata": {
        "id": "BE_TdsHa3sMj"
      },
      "source": [
        "### Question 4\n",
        "After importing the dataset into a pandas data frame, determine the median amount of `protein` in cereal brands manufactured by Kelloggs. (`mfr` code \"K\")"
      ]
    },
    {
      "cell_type": "code",
      "metadata": {
        "id": "fBXFGnfP2tfV",
        "colab": {
          "base_uri": "https://localhost:8080/"
        },
        "outputId": "9982f649-9440-4f6b-f906-c77574937ab6"
      },
      "source": [
        "cereal = pd.read_csv(\"https://raw.githubusercontent.com/byui-cse/cse450-course/master/data/cereal.csv\")\n",
        "\n",
        "cereal.head(8)\n",
        "#cereal.info()\n",
        "\n",
        "kelloggs_cereals = cereal[cereal['mfr'] == 'K']\n",
        "\n",
        "kelloggs_cereals['protein'].median()\n"
      ],
      "execution_count": 49,
      "outputs": [
        {
          "output_type": "execute_result",
          "data": {
            "text/plain": [
              "3.0"
            ]
          },
          "metadata": {},
          "execution_count": 49
        }
      ]
    },
    {
      "cell_type": "markdown",
      "metadata": {
        "id": "W3del4PC9NJ-"
      },
      "source": [
        "### Question 5\n",
        "In order to comply with new government regulations, all cereals must now come with a \"Healthiness\" rating. This rating is calculated based on this formula:\n",
        "\n",
        "    healthiness = (protein + fiber) / sugar\n",
        "\n",
        "Create a new `healthiness` column populated with values based on the above formula.\n",
        "\n",
        "Then, determine the median healthiness value for only General Mills cereals (`mfr` = \"G\"), rounded to two decimal places."
      ]
    },
    {
      "cell_type": "code",
      "metadata": {
        "id": "TqFx9yvV6LDX",
        "colab": {
          "base_uri": "https://localhost:8080/"
        },
        "outputId": "295c0285-a4b0-4a86-a0fe-fa655696098f"
      },
      "source": [
        "cereal = pd.read_csv(\"https://raw.githubusercontent.com/byui-cse/cse450-course/master/data/cereal.csv\")\n",
        "\n",
        "# Create the 'healthiness' column based on the formula\n",
        "cereal['healthiness'] = (cereal['protein'] + cereal['fiber']) / cereal['sugars']\n",
        "\n",
        "# Filter for General Mills cereals (mfr = 'G')\n",
        "general_mills_cereals = cereal[cereal['mfr'] == 'G']\n",
        "\n",
        "# Calculate the median healthiness value for General Mills cereals\n",
        "median_healthiness = general_mills_cereals['healthiness'].median()\n",
        "\n",
        "# Round the median value to two decimal places\n",
        "round(median_healthiness, 2)"
      ],
      "execution_count": 50,
      "outputs": [
        {
          "output_type": "execute_result",
          "data": {
            "text/plain": [
              "0.47"
            ]
          },
          "metadata": {},
          "execution_count": 50
        }
      ]
    },
    {
      "cell_type": "markdown",
      "metadata": {
        "id": "AcuUNAxC-g7c"
      },
      "source": [
        "## Problem Group 3\n",
        "\n",
        "For the questions in this group, you'll work with the Titanic Dataset found at this url: [https://raw.githubusercontent.com/byui-cse/cse450-course/master/data/titanic.csv](https://raw.githubusercontent.com/byui-cse/cse450-course/master/data/titanic.csv)"
      ]
    },
    {
      "cell_type": "markdown",
      "metadata": {
        "id": "POOuuXfYAJQK"
      },
      "source": [
        "### Question 6\n",
        "\n",
        "After loading the dataset into a pandas DataFrame, create a new column called `NameGroup` that contains the first letter of the passenger's surname in lower case.\n",
        "\n",
        "Note that in the dataset, passenger's names are provided in the `Name` column and are listed as:\n",
        "\n",
        "    Surname, Given names\n",
        "\n",
        "For example, if a passenger's `Name` is `Braund, Mr. Owen Harris`, the `NameGroup` column should contain the value `b`.\n",
        "\n",
        "Then count how many passengers have a `NameGroup` value of `k`."
      ]
    },
    {
      "cell_type": "code",
      "metadata": {
        "id": "T80gU65-ASFa",
        "colab": {
          "base_uri": "https://localhost:8080/"
        },
        "outputId": "84cbe7ba-bcf3-4382-9ecc-6db85c35a33b"
      },
      "source": [
        "titanic = pd.read_csv(\"https://raw.githubusercontent.com/byui-cse/cse450-course/master/data/titanic.csv\")\n",
        "\n",
        "titanic.head(8)\n",
        "\n",
        "# Create the 'NameGroup' column by extracting the first letter of the surname in lowercase\n",
        "titanic['NameGroup'] = titanic['Name'].apply(lambda x: x.split(',')[0][0].lower())\n",
        "\n",
        "# Count how many passengers have a NameGroup value of 'k'\n",
        "titanic[titanic['NameGroup'] == 'k'].shape[0]\n"
      ],
      "execution_count": 51,
      "outputs": [
        {
          "output_type": "execute_result",
          "data": {
            "text/plain": [
              "28"
            ]
          },
          "metadata": {},
          "execution_count": 51
        }
      ]
    },
    {
      "cell_type": "code",
      "metadata": {
        "id": "E81qACTfAWl2"
      },
      "source": [],
      "execution_count": null,
      "outputs": []
    }
  ]
}